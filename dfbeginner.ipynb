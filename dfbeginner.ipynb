{
 "cells": [
  {
   "cell_type": "code",
   "execution_count": 3,
   "id": "2f4c3a7e",
   "metadata": {},
   "outputs": [],
   "source": [
    "import pyspark \n",
    "from pyspark import SparkContext\n",
    "import os\n",
    "import sys\n",
    "os.environ['PYSPARK_DRIVER_PYTHON_OPTS']='notebook'\n",
    "os.environ['PYSPARK_DRIVER_PYTHON']=sys.executable\n",
    "os.environ['PYSPARK_PYTHON']=sys.executable"
   ]
  },
  {
   "cell_type": "code",
   "execution_count": 4,
   "id": "e3ac91da",
   "metadata": {},
   "outputs": [],
   "source": [
    "from pyspark.sql import SparkSession\n",
    "spark=SparkSession.builder.appName(\"dataframe2\").getOrCreate()"
   ]
  },
  {
   "cell_type": "code",
   "execution_count": 5,
   "id": "27ebf5b3",
   "metadata": {},
   "outputs": [
    {
     "data": {
      "text/plain": [
       "DataFrame[ID: bigint, Player Name: string, Profile: string, Jersey No.: bigint]"
      ]
     },
     "metadata": {},
     "output_type": "display_data"
    },
    {
     "name": "stdout",
     "output_type": "stream",
     "text": [
      "+---+-----------+-----------+----------+\n",
      "| ID|Player Name|    Profile|Jersey No.|\n",
      "+---+-----------+-----------+----------+\n",
      "|  1|     Sachin|    Batsman|        10|\n",
      "|  2|      Rohit|    Batsman|        48|\n",
      "|  3|     Bumrah|     Bowler|        22|\n",
      "|  4|     Hardik|All Rounder|         8|\n",
      "+---+-----------+-----------+----------+\n",
      "\n"
     ]
    }
   ],
   "source": [
    "data=[(1,'Sachin','Batsman',10),\n",
    "     (2,'Rohit','Batsman',48),\n",
    "     (3,'Bumrah','Bowler',22),\n",
    "     (4,'Hardik','All Rounder',8)]\n",
    "columns=['ID','Player Name','Profile','Jersey No.']\n",
    "df=spark.createDataFrame(data,columns)\n",
    "display(df)\n",
    "df.show()"
   ]
  },
  {
   "cell_type": "markdown",
   "id": "cd218a08",
   "metadata": {},
   "source": [
    "# Data frame from dictionary\n"
   ]
  },
  {
   "cell_type": "code",
   "execution_count": 6,
   "id": "17903d4a",
   "metadata": {},
   "outputs": [
    {
     "name": "stdout",
     "output_type": "stream",
     "text": [
      "+-------+-----+--------+\n",
      "| flower|price|quantity|\n",
      "+-------+-----+--------+\n",
      "|   Rose|  100|       5|\n",
      "|  Tulip|  150|      10|\n",
      "|Jasmine|   50|      15|\n",
      "+-------+-----+--------+\n",
      "\n"
     ]
    }
   ],
   "source": [
    "data1=[{'flower':'Rose', 'price':100, 'quantity':5},\n",
    "    {'flower':'Tulip', 'price':150, 'quantity':10},\n",
    "    {'flower':'Jasmine', 'price':50, 'quantity':15}]\n",
    "df1=spark.createDataFrame(data1)\n",
    "df1.show()"
   ]
  },
  {
   "cell_type": "code",
   "execution_count": 7,
   "id": "2bf53625",
   "metadata": {},
   "outputs": [],
   "source": [
    "import pandas as pd"
   ]
  },
  {
   "cell_type": "code",
   "execution_count": 8,
   "id": "a73a17f2",
   "metadata": {},
   "outputs": [
    {
     "data": {
      "text/plain": [
       "(50001, 110)"
      ]
     },
     "execution_count": 8,
     "metadata": {},
     "output_type": "execute_result"
    }
   ],
   "source": [
    "pandaDF=pd.read_csv(r\"C:\\Users\\91976\\Downloads\\data\\airlines1.csv\")\n",
    "pandaDF.shape"
   ]
  },
  {
   "cell_type": "code",
   "execution_count": 9,
   "id": "471b3765",
   "metadata": {},
   "outputs": [
    {
     "name": "stdout",
     "output_type": "stream",
     "text": [
      "root\n",
      " |-- Unnamed: 0: string (nullable = true)\n",
      " |-- Year: string (nullable = true)\n",
      " |-- Quarter: string (nullable = true)\n",
      " |-- Month: string (nullable = true)\n",
      " |-- DayofMonth: string (nullable = true)\n",
      " |-- DayOfWeek: string (nullable = true)\n",
      " |-- FlightDate: string (nullable = true)\n",
      " |-- Reporting_Airline: string (nullable = true)\n",
      " |-- DOT_ID_Reporting_Airline: string (nullable = true)\n",
      " |-- IATA_CODE_Reporting_Airline: string (nullable = true)\n",
      " |-- Tail_Number: string (nullable = true)\n",
      " |-- Flight_Number_Reporting_Airline: string (nullable = true)\n",
      " |-- OriginAirportID: string (nullable = true)\n",
      " |-- OriginAirportSeqID: string (nullable = true)\n",
      " |-- OriginCityMarketID: string (nullable = true)\n",
      " |-- Origin: string (nullable = true)\n",
      " |-- OriginCityName: string (nullable = true)\n",
      " |-- OriginState: string (nullable = true)\n",
      " |-- OriginStateFips: string (nullable = true)\n",
      " |-- OriginStateName: string (nullable = true)\n",
      " |-- OriginWac: string (nullable = true)\n",
      " |-- DestAirportID: string (nullable = true)\n",
      " |-- DestAirportSeqID: string (nullable = true)\n",
      " |-- DestCityMarketID: string (nullable = true)\n",
      " |-- Dest: string (nullable = true)\n",
      " |-- DestCityName: string (nullable = true)\n",
      " |-- DestState: string (nullable = true)\n",
      " |-- DestStateFips: string (nullable = true)\n",
      " |-- DestStateName: string (nullable = true)\n",
      " |-- DestWac: string (nullable = true)\n",
      " |-- CRSDepTime: string (nullable = true)\n",
      " |-- DepTime: string (nullable = true)\n",
      " |-- DepDelay: string (nullable = true)\n",
      " |-- DepDelayMinutes: string (nullable = true)\n",
      " |-- DepDel15: string (nullable = true)\n",
      " |-- DepartureDelayGroups: string (nullable = true)\n",
      " |-- DepTimeBlk: string (nullable = true)\n",
      " |-- TaxiOut: string (nullable = true)\n",
      " |-- WheelsOff: string (nullable = true)\n",
      " |-- WheelsOn: string (nullable = true)\n",
      " |-- TaxiIn: string (nullable = true)\n",
      " |-- CRSArrTime: string (nullable = true)\n",
      " |-- ArrTime: string (nullable = true)\n",
      " |-- ArrDelay: string (nullable = true)\n",
      " |-- ArrDelayMinutes: string (nullable = true)\n",
      " |-- ArrDel15: string (nullable = true)\n",
      " |-- ArrivalDelayGroups: string (nullable = true)\n",
      " |-- ArrTimeBlk: string (nullable = true)\n",
      " |-- Cancelled: string (nullable = true)\n",
      " |-- CancellationCode: string (nullable = true)\n",
      " |-- Diverted: string (nullable = true)\n",
      " |-- CRSElapsedTime: string (nullable = true)\n",
      " |-- ActualElapsedTime: string (nullable = true)\n",
      " |-- AirTime: string (nullable = true)\n",
      " |-- Flights: string (nullable = true)\n",
      " |-- Distance: string (nullable = true)\n",
      " |-- DistanceGroup: string (nullable = true)\n",
      " |-- CarrierDelay: string (nullable = true)\n",
      " |-- WeatherDelay: string (nullable = true)\n",
      " |-- NASDelay: string (nullable = true)\n",
      " |-- SecurityDelay: string (nullable = true)\n",
      " |-- LateAircraftDelay: string (nullable = true)\n",
      " |-- FirstDepTime: string (nullable = true)\n",
      " |-- TotalAddGTime: string (nullable = true)\n",
      " |-- LongestAddGTime: string (nullable = true)\n",
      " |-- DivAirportLandings: string (nullable = true)\n",
      " |-- DivReachedDest: string (nullable = true)\n",
      " |-- DivActualElapsedTime: string (nullable = true)\n",
      " |-- DivArrDelay: string (nullable = true)\n",
      " |-- DivDistance: string (nullable = true)\n",
      " |-- Div1Airport: string (nullable = true)\n",
      " |-- Div1AirportID: string (nullable = true)\n",
      " |-- Div1AirportSeqID: string (nullable = true)\n",
      " |-- Div1WheelsOn: string (nullable = true)\n",
      " |-- Div1TotalGTime: string (nullable = true)\n",
      " |-- Div1LongestGTime: string (nullable = true)\n",
      " |-- Div1WheelsOff: string (nullable = true)\n",
      " |-- Div1TailNum: string (nullable = true)\n",
      " |-- Div2Airport: string (nullable = true)\n",
      " |-- Div2AirportID: string (nullable = true)\n",
      " |-- Div2AirportSeqID: string (nullable = true)\n",
      " |-- Div2WheelsOn: string (nullable = true)\n",
      " |-- Div2TotalGTime: string (nullable = true)\n",
      " |-- Div2LongestGTime: string (nullable = true)\n",
      " |-- Div2WheelsOff: string (nullable = true)\n",
      " |-- Div2TailNum: string (nullable = true)\n",
      " |-- Div3Airport: string (nullable = true)\n",
      " |-- Div3AirportID: string (nullable = true)\n",
      " |-- Div3AirportSeqID: string (nullable = true)\n",
      " |-- Div3WheelsOn: string (nullable = true)\n",
      " |-- Div3TotalGTime: string (nullable = true)\n",
      " |-- Div3LongestGTime: string (nullable = true)\n",
      " |-- Div3WheelsOff: string (nullable = true)\n",
      " |-- Div3TailNum: string (nullable = true)\n",
      " |-- Div4Airport: string (nullable = true)\n",
      " |-- Div4AirportID: string (nullable = true)\n",
      " |-- Div4AirportSeqID: string (nullable = true)\n",
      " |-- Div4WheelsOn: string (nullable = true)\n",
      " |-- Div4TotalGTime: string (nullable = true)\n",
      " |-- Div4LongestGTime: string (nullable = true)\n",
      " |-- Div4WheelsOff: string (nullable = true)\n",
      " |-- Div4TailNum: string (nullable = true)\n",
      " |-- Div5Airport: string (nullable = true)\n",
      " |-- Div5AirportID: string (nullable = true)\n",
      " |-- Div5AirportSeqID: string (nullable = true)\n",
      " |-- Div5WheelsOn: string (nullable = true)\n",
      " |-- Div5TotalGTime: string (nullable = true)\n",
      " |-- Div5LongestGTime: string (nullable = true)\n",
      " |-- Div5WheelsOff: string (nullable = true)\n",
      " |-- Div5TailNum: string (nullable = true)\n",
      "\n"
     ]
    }
   ],
   "source": [
    "sparkDF=spark.createDataFrame(pandaDF.astype(str))\n",
    "sparkDF.printSchema()"
   ]
  },
  {
   "cell_type": "code",
   "execution_count": 10,
   "id": "674db0be",
   "metadata": {},
   "outputs": [],
   "source": [
    "newSparkDF=sparkDF.select(\"Year\",\"Month\",\"DayofMonth\",\"DayofWeek\",\"FlightDate\",\"Tail_Number\",\"Reporting_Airline\")"
   ]
  },
  {
   "cell_type": "code",
   "execution_count": 11,
   "id": "21ddbe56",
   "metadata": {},
   "outputs": [
    {
     "data": {
      "text/plain": [
       "DataFrame[Year: string, Month: string, DayofMonth: string, DayofWeek: string, FlightDate: string, Tail_Number: string, Reporting_Airline: string]"
      ]
     },
     "execution_count": 11,
     "metadata": {},
     "output_type": "execute_result"
    }
   ],
   "source": [
    "newSparkDF"
   ]
  },
  {
   "cell_type": "code",
   "execution_count": 12,
   "id": "cd714a21",
   "metadata": {},
   "outputs": [
    {
     "data": {
      "text/html": [
       "<div>\n",
       "<style scoped>\n",
       "    .dataframe tbody tr th:only-of-type {\n",
       "        vertical-align: middle;\n",
       "    }\n",
       "\n",
       "    .dataframe tbody tr th {\n",
       "        vertical-align: top;\n",
       "    }\n",
       "\n",
       "    .dataframe thead th {\n",
       "        text-align: right;\n",
       "    }\n",
       "</style>\n",
       "<table border=\"1\" class=\"dataframe\">\n",
       "  <thead>\n",
       "    <tr style=\"text-align: right;\">\n",
       "      <th></th>\n",
       "      <th>Year</th>\n",
       "      <th>Month</th>\n",
       "      <th>DayofMonth</th>\n",
       "      <th>DayofWeek</th>\n",
       "      <th>FlightDate</th>\n",
       "      <th>Tail_Number</th>\n",
       "      <th>Reporting_Airline</th>\n",
       "    </tr>\n",
       "  </thead>\n",
       "  <tbody>\n",
       "    <tr>\n",
       "      <th>0</th>\n",
       "      <td>1998</td>\n",
       "      <td>1</td>\n",
       "      <td>2</td>\n",
       "      <td>5</td>\n",
       "      <td>1998-01-02</td>\n",
       "      <td>N297US</td>\n",
       "      <td>NW</td>\n",
       "    </tr>\n",
       "    <tr>\n",
       "      <th>1</th>\n",
       "      <td>2009</td>\n",
       "      <td>5</td>\n",
       "      <td>28</td>\n",
       "      <td>4</td>\n",
       "      <td>2009-05-28</td>\n",
       "      <td>N946AT</td>\n",
       "      <td>FL</td>\n",
       "    </tr>\n",
       "    <tr>\n",
       "      <th>2</th>\n",
       "      <td>2013</td>\n",
       "      <td>6</td>\n",
       "      <td>29</td>\n",
       "      <td>6</td>\n",
       "      <td>2013-06-29</td>\n",
       "      <td>N665MQ</td>\n",
       "      <td>MQ</td>\n",
       "    </tr>\n",
       "    <tr>\n",
       "      <th>3</th>\n",
       "      <td>2010</td>\n",
       "      <td>8</td>\n",
       "      <td>31</td>\n",
       "      <td>2</td>\n",
       "      <td>2010-08-31</td>\n",
       "      <td>N6705Y</td>\n",
       "      <td>DL</td>\n",
       "    </tr>\n",
       "    <tr>\n",
       "      <th>4</th>\n",
       "      <td>2006</td>\n",
       "      <td>1</td>\n",
       "      <td>15</td>\n",
       "      <td>7</td>\n",
       "      <td>2006-01-15</td>\n",
       "      <td>N504AU</td>\n",
       "      <td>US</td>\n",
       "    </tr>\n",
       "    <tr>\n",
       "      <th>...</th>\n",
       "      <td>...</td>\n",
       "      <td>...</td>\n",
       "      <td>...</td>\n",
       "      <td>...</td>\n",
       "      <td>...</td>\n",
       "      <td>...</td>\n",
       "      <td>...</td>\n",
       "    </tr>\n",
       "    <tr>\n",
       "      <th>49996</th>\n",
       "      <td>1999</td>\n",
       "      <td>10</td>\n",
       "      <td>12</td>\n",
       "      <td>2</td>\n",
       "      <td>1999-10-12</td>\n",
       "      <td>N311</td>\n",
       "      <td>WN</td>\n",
       "    </tr>\n",
       "    <tr>\n",
       "      <th>49997</th>\n",
       "      <td>2010</td>\n",
       "      <td>11</td>\n",
       "      <td>1</td>\n",
       "      <td>1</td>\n",
       "      <td>2010-11-01</td>\n",
       "      <td>N940CA</td>\n",
       "      <td>OH</td>\n",
       "    </tr>\n",
       "    <tr>\n",
       "      <th>49998</th>\n",
       "      <td>2006</td>\n",
       "      <td>4</td>\n",
       "      <td>30</td>\n",
       "      <td>7</td>\n",
       "      <td>2006-04-30</td>\n",
       "      <td>N509UA</td>\n",
       "      <td>UA</td>\n",
       "    </tr>\n",
       "    <tr>\n",
       "      <th>49999</th>\n",
       "      <td>2009</td>\n",
       "      <td>7</td>\n",
       "      <td>8</td>\n",
       "      <td>3</td>\n",
       "      <td>2009-07-08</td>\n",
       "      <td>N804FR</td>\n",
       "      <td>F9</td>\n",
       "    </tr>\n",
       "    <tr>\n",
       "      <th>50000</th>\n",
       "      <td>2006</td>\n",
       "      <td>5</td>\n",
       "      <td>17</td>\n",
       "      <td>3</td>\n",
       "      <td>2006-05-17</td>\n",
       "      <td>N388AA</td>\n",
       "      <td>AA</td>\n",
       "    </tr>\n",
       "  </tbody>\n",
       "</table>\n",
       "<p>50001 rows × 7 columns</p>\n",
       "</div>"
      ],
      "text/plain": [
       "       Year Month DayofMonth DayofWeek  FlightDate Tail_Number  \\\n",
       "0      1998     1          2         5  1998-01-02      N297US   \n",
       "1      2009     5         28         4  2009-05-28      N946AT   \n",
       "2      2013     6         29         6  2013-06-29      N665MQ   \n",
       "3      2010     8         31         2  2010-08-31      N6705Y   \n",
       "4      2006     1         15         7  2006-01-15      N504AU   \n",
       "...     ...   ...        ...       ...         ...         ...   \n",
       "49996  1999    10         12         2  1999-10-12        N311   \n",
       "49997  2010    11          1         1  2010-11-01      N940CA   \n",
       "49998  2006     4         30         7  2006-04-30      N509UA   \n",
       "49999  2009     7          8         3  2009-07-08      N804FR   \n",
       "50000  2006     5         17         3  2006-05-17      N388AA   \n",
       "\n",
       "      Reporting_Airline  \n",
       "0                    NW  \n",
       "1                    FL  \n",
       "2                    MQ  \n",
       "3                    DL  \n",
       "4                    US  \n",
       "...                 ...  \n",
       "49996                WN  \n",
       "49997                OH  \n",
       "49998                UA  \n",
       "49999                F9  \n",
       "50000                AA  \n",
       "\n",
       "[50001 rows x 7 columns]"
      ]
     },
     "execution_count": 12,
     "metadata": {},
     "output_type": "execute_result"
    }
   ],
   "source": [
    "pdf=newSparkDF.toPandas()\n",
    "pdf"
   ]
  },
  {
   "cell_type": "code",
   "execution_count": 13,
   "id": "b591f33d",
   "metadata": {},
   "outputs": [
    {
     "name": "stdout",
     "output_type": "stream",
     "text": [
      "+---+----+-------+-----+----------+---------+----------+-----------------+------------------------+---------------------------+-----------+-------------------------------+---------------+------------------+------------------+------+--------------------+-----------+---------------+---------------+---------+-------------+----------------+----------------+----+--------------------+---------+-------------+--------------+-------+----------+-------+--------+---------------+--------+--------------------+----------+-------+---------+--------+------+----------+-------+--------+---------------+--------+------------------+----------+---------+----------------+--------+--------------+-----------------+-------+-------+--------+-------------+------------+------------+--------+-------------+-----------------+------------+-------------+---------------+------------------+--------------+--------------------+-----------+-----------+-----------+-------------+----------------+------------+--------------+----------------+-------------+-----------+-----------+-------------+----------------+------------+--------------+----------------+-------------+-----------+-----------+-------------+----------------+------------+--------------+----------------+-------------+-----------+-----------+-------------+----------------+------------+--------------+----------------+-------------+-----------+-----------+-------------+----------------+------------+--------------+----------------+-------------+-----------+\n",
      "|_c0|Year|Quarter|Month|DayofMonth|DayOfWeek|FlightDate|Reporting_Airline|DOT_ID_Reporting_Airline|IATA_CODE_Reporting_Airline|Tail_Number|Flight_Number_Reporting_Airline|OriginAirportID|OriginAirportSeqID|OriginCityMarketID|Origin|      OriginCityName|OriginState|OriginStateFips|OriginStateName|OriginWac|DestAirportID|DestAirportSeqID|DestCityMarketID|Dest|        DestCityName|DestState|DestStateFips| DestStateName|DestWac|CRSDepTime|DepTime|DepDelay|DepDelayMinutes|DepDel15|DepartureDelayGroups|DepTimeBlk|TaxiOut|WheelsOff|WheelsOn|TaxiIn|CRSArrTime|ArrTime|ArrDelay|ArrDelayMinutes|ArrDel15|ArrivalDelayGroups|ArrTimeBlk|Cancelled|CancellationCode|Diverted|CRSElapsedTime|ActualElapsedTime|AirTime|Flights|Distance|DistanceGroup|CarrierDelay|WeatherDelay|NASDelay|SecurityDelay|LateAircraftDelay|FirstDepTime|TotalAddGTime|LongestAddGTime|DivAirportLandings|DivReachedDest|DivActualElapsedTime|DivArrDelay|DivDistance|Div1Airport|Div1AirportID|Div1AirportSeqID|Div1WheelsOn|Div1TotalGTime|Div1LongestGTime|Div1WheelsOff|Div1TailNum|Div2Airport|Div2AirportID|Div2AirportSeqID|Div2WheelsOn|Div2TotalGTime|Div2LongestGTime|Div2WheelsOff|Div2TailNum|Div3Airport|Div3AirportID|Div3AirportSeqID|Div3WheelsOn|Div3TotalGTime|Div3LongestGTime|Div3WheelsOff|Div3TailNum|Div4Airport|Div4AirportID|Div4AirportSeqID|Div4WheelsOn|Div4TotalGTime|Div4LongestGTime|Div4WheelsOff|Div4TailNum|Div5Airport|Div5AirportID|Div5AirportSeqID|Div5WheelsOn|Div5TotalGTime|Div5LongestGTime|Div5WheelsOff|Div5TailNum|\n",
      "+---+----+-------+-----+----------+---------+----------+-----------------+------------------------+---------------------------+-----------+-------------------------------+---------------+------------------+------------------+------+--------------------+-----------+---------------+---------------+---------+-------------+----------------+----------------+----+--------------------+---------+-------------+--------------+-------+----------+-------+--------+---------------+--------+--------------------+----------+-------+---------+--------+------+----------+-------+--------+---------------+--------+------------------+----------+---------+----------------+--------+--------------+-----------------+-------+-------+--------+-------------+------------+------------+--------+-------------+-----------------+------------+-------------+---------------+------------------+--------------+--------------------+-----------+-----------+-----------+-------------+----------------+------------+--------------+----------------+-------------+-----------+-----------+-------------+----------------+------------+--------------+----------------+-------------+-----------+-----------+-------------+----------------+------------+--------------+----------------+-------------+-----------+-----------+-------------+----------------+------------+--------------+----------------+-------------+-----------+-----------+-------------+----------------+------------+--------------+----------------+-------------+-----------+\n",
      "|  0|1998|      1|    1|         2|        5|1998-01-02|               NW|                   19386|                         NW|     N297US|                            675|          13487|           1348701|             31650|   MSP|     Minneapolis, MN|         MN|           27.0|      Minnesota|       63|        14869|         1486902|           34614| SLC|  Salt Lake City, UT|       UT|         49.0|          Utah|     87|      1640| 1659.0|    19.0|           19.0|     1.0|                 1.0| 1600-1659|   24.0|   1723.0|  1856.0|   3.0|      1836| 1859.0|    23.0|           23.0|     1.0|               1.0| 1800-1859|      0.0|            null|     0.0|         176.0|            180.0|  153.0|    1.0|   991.0|            4|        null|        null|    null|         null|             null|        null|         null|           null|              null|          null|                null|       null|       null|       null|         null|            null|        null|          null|            null|         null|       null|       null|         null|            null|        null|          null|            null|         null|       null|       null|         null|            null|        null|          null|            null|         null|       null|       null|         null|            null|        null|          null|            null|         null|       null|       null|         null|            null|        null|          null|            null|         null|       null|\n",
      "|  1|2009|      2|    5|        28|        4|2009-05-28|               FL|                   20437|                         FL|     N946AT|                            671|          13342|           1334202|             33342|   MKE|       Milwaukee, WI|         WI|           55.0|      Wisconsin|       45|        13204|         1320401|           31454| MCO|         Orlando, FL|       FL|         12.0|       Florida|     33|      1204| 1202.0|    -2.0|            0.0|     0.0|                -1.0| 1200-1259|   10.0|   1212.0|  1533.0|   8.0|      1541| 1541.0|     0.0|            0.0|     0.0|               0.0| 1500-1559|      0.0|            null|     0.0|         157.0|            159.0|  141.0|    1.0|  1066.0|            5|        null|        null|    null|         null|             null|        null|         null|           null|               0.0|          null|                null|       null|       null|       null|         null|            null|        null|          null|            null|         null|       null|       null|         null|            null|        null|          null|            null|         null|       null|       null|         null|            null|        null|          null|            null|         null|       null|       null|         null|            null|        null|          null|            null|         null|       null|       null|         null|            null|        null|          null|            null|         null|       null|\n",
      "|  2|2013|      2|    6|        29|        6|2013-06-29|               MQ|                   20398|                         MQ|     N665MQ|                           3297|          11921|           1192102|             31921|   GJT|  Grand Junction, CO|         CO|            8.0|       Colorado|       82|        11298|         1129803|           30194| DFW|Dallas/Fort Worth...|       TX|         48.0|         Texas|     74|      1630| 1644.0|    14.0|           14.0|     0.0|                 0.0| 1600-1659|    9.0|   1653.0|  1936.0|   6.0|      1945| 1942.0|    -3.0|            0.0|     0.0|              -1.0| 1900-1959|      0.0|            null|     0.0|         135.0|            118.0|  103.0|    1.0|   773.0|            4|        null|        null|    null|         null|             null|        null|         null|           null|               0.0|          null|                null|       null|       null|       null|         null|            null|        null|          null|            null|         null|       null|       null|         null|            null|        null|          null|            null|         null|       null|       null|         null|            null|        null|          null|            null|         null|       null|       null|         null|            null|        null|          null|            null|         null|       null|       null|         null|            null|        null|          null|            null|         null|       null|\n",
      "|  3|2010|      3|    8|        31|        2|2010-08-31|               DL|                   19790|                         DL|     N6705Y|                           1806|          12892|           1289201|             32575|   LAX|     Los Angeles, CA|         CA|            6.0|     California|       91|        11433|         1143301|           31295| DTW|         Detroit, MI|       MI|         26.0|      Michigan|     43|      1305| 1305.0|     0.0|            0.0|     0.0|                 0.0| 1300-1359|   23.0|   1328.0|  2008.0|   7.0|      2035| 2015.0|   -20.0|            0.0|     0.0|              -2.0| 2000-2059|      0.0|            null|     0.0|         270.0|            250.0|  220.0|    1.0|  1979.0|            8|        null|        null|    null|         null|             null|        null|         null|           null|               0.0|          null|                null|       null|       null|       null|         null|            null|        null|          null|            null|         null|       null|       null|         null|            null|        null|          null|            null|         null|       null|       null|         null|            null|        null|          null|            null|         null|       null|       null|         null|            null|        null|          null|            null|         null|       null|       null|         null|            null|        null|          null|            null|         null|       null|\n",
      "|  4|2006|      1|    1|        15|        7|2006-01-15|               US|                   20355|                         US|     N504AU|                            465|          11618|           1161801|             31703|   EWR|          Newark, NJ|         NJ|           34.0|     New Jersey|       21|        11057|         1105702|           31057| CLT|       Charlotte, NC|       NC|         37.0|North Carolina|     36|      1820| 1911.0|    51.0|           51.0|     1.0|                 3.0| 1800-1859|   19.0|   1930.0|  2050.0|   8.0|      2026| 2058.0|    32.0|           32.0|     1.0|               2.0| 2000-2059|      0.0|            null|     0.0|         126.0|            107.0|   80.0|    1.0|   529.0|            3|         0.0|         0.0|     0.0|          0.0|             32.0|        null|         null|           null|              null|          null|                null|       null|       null|       null|         null|            null|        null|          null|            null|         null|       null|       null|         null|            null|        null|          null|            null|         null|       null|       null|         null|            null|        null|          null|            null|         null|       null|       null|         null|            null|        null|          null|            null|         null|       null|       null|         null|            null|        null|          null|            null|         null|       null|\n",
      "|  5|1995|      4|   11|        29|        3|1995-11-29|               DL|                   19790|                         DL|     N925DL|                           1198|          11298|           1129802|             30194|   DFW|Dallas/Fort Worth...|         TX|           48.0|          Texas|       74|        14814|         1481401|           30476| SHV|      Shreveport, LA|       LA|         22.0|     Louisiana|     72|       639|  639.0|     0.0|            0.0|     0.0|                 0.0| 0600-0659|   29.0|    708.0|   736.0|   5.0|       730|  741.0|    11.0|           11.0|     0.0|               0.0| 0700-0759|      0.0|            null|     0.0|          51.0|             62.0|   28.0|    1.0|   190.0|            1|        null|        null|    null|         null|             null|        null|         null|           null|              null|          null|                null|       null|       null|       null|         null|            null|        null|          null|            null|         null|       null|       null|         null|            null|        null|          null|            null|         null|       null|       null|         null|            null|        null|          null|            null|         null|       null|       null|         null|            null|        null|          null|            null|         null|       null|       null|         null|            null|        null|          null|            null|         null|       null|\n",
      "|  6|2006|      3|    8|         7|        1|2006-08-07|               CO|                   19704|                         CO|     N27724|                           1431|          10721|           1072101|             30721|   BOS|          Boston, MA|         MA|           25.0|  Massachusetts|       13|        11042|         1104201|           30647| CLE|       Cleveland, OH|       OH|         39.0|          Ohio|     44|      1755| 1751.0|    -4.0|            0.0|     0.0|                -1.0| 1700-1759|   33.0|   1824.0|  1958.0|   4.0|      2000| 2002.0|     2.0|            2.0|     0.0|               0.0| 2000-2059|      0.0|            null|     0.0|         125.0|            131.0|   94.0|    1.0|   563.0|            3|        null|        null|    null|         null|             null|        null|         null|           null|              null|          null|                null|       null|       null|       null|         null|            null|        null|          null|            null|         null|       null|       null|         null|            null|        null|          null|            null|         null|       null|       null|         null|            null|        null|          null|            null|         null|       null|       null|         null|            null|        null|          null|            null|         null|       null|       null|         null|            null|        null|          null|            null|         null|       null|\n",
      "|  7|2019|      2|    6|        11|        2|2019-06-11|               9E|                   20363|                         9E|     N927XJ|                           3459|          10397|           1039707|             30397|   ATL|         Atlanta, GA|         GA|           13.0|        Georgia|       34|        10868|         1086803|           30868| CAE|        Columbia, SC|       SC|         45.0|South Carolina|     37|      1950| 2331.0|   221.0|          221.0|     1.0|                12.0| 1900-1959|   19.0|   2350.0|    25.0|   6.0|      2057|   31.0|   214.0|          214.0|     1.0|              12.0| 2000-2059|      0.0|            null|     0.0|          67.0|             60.0|   35.0|    1.0|   192.0|            1|         0.0|         0.0|     0.0|          0.0|            214.0|        null|         null|           null|               0.0|          null|                null|       null|       null|       null|         null|            null|        null|          null|            null|         null|       null|       null|         null|            null|        null|          null|            null|         null|       null|       null|         null|            null|        null|          null|            null|         null|       null|       null|         null|            null|        null|          null|            null|         null|       null|       null|         null|            null|        null|          null|            null|         null|       null|\n",
      "|  8|2008|      3|    8|         3|        7|2008-08-03|               YV|                   20378|                         YV|     N522LR|                           7233|          13930|           1393001|             30977|   ORD|         Chicago, IL|         IL|           17.0|       Illinois|       41|        11042|         1104201|           30647| CLE|       Cleveland, OH|       OH|         39.0|          Ohio|     44|      1550| 1552.0|     2.0|            2.0|     0.0|                 0.0| 1500-1559|   26.0|   1618.0|  1817.0|   3.0|      1810| 1820.0|    10.0|           10.0|     0.0|               0.0| 1800-1859|      0.0|            null|     0.0|          80.0|             88.0|   59.0|    1.0|   316.0|            2|        null|        null|    null|         null|             null|        null|         null|           null|              null|          null|                null|       null|       null|       null|         null|            null|        null|          null|            null|         null|       null|       null|         null|            null|        null|          null|            null|         null|       null|       null|         null|            null|        null|          null|            null|         null|       null|       null|         null|            null|        null|          null|            null|         null|       null|       null|         null|            null|        null|          null|            null|         null|       null|\n",
      "|  9|2018|      1|    2|         8|        4|2018-02-08|               WN|                   19393|                         WN|     N8688J|                           5932|          13232|           1323202|             30977|   MDW|         Chicago, IL|         IL|           17.0|       Illinois|       41|        11259|         1125903|           30194| DAL|          Dallas, TX|       TX|         48.0|         Texas|     74|      2030| 2046.0|    16.0|           16.0|     1.0|                 1.0| 2000-2059|   34.0|   2120.0|  2314.0|   5.0|      2250| 2319.0|    29.0|           29.0|     1.0|               1.0| 2200-2259|      0.0|            null|     0.0|         140.0|            153.0|  114.0|    1.0|   793.0|            4|         0.0|         0.0|    13.0|          0.0|             16.0|        null|         null|           null|               0.0|          null|                null|       null|       null|       null|         null|            null|        null|          null|            null|         null|       null|       null|         null|            null|        null|          null|            null|         null|       null|       null|         null|            null|        null|          null|            null|         null|       null|       null|         null|            null|        null|          null|            null|         null|       null|       null|         null|            null|        null|          null|            null|         null|       null|\n",
      "| 10|1991|      4|   11|        21|        4|1991-11-21|               US|                   20355|                         US|       null|                           2135|          14679|           1467902|             33570|   SAN|       San Diego, CA|         CA|            6.0|     California|       91|        12892|         1289201|           32575| LAX|     Los Angeles, CA|       CA|          6.0|    California|     91|      1245| 1247.0|     2.0|            2.0|     0.0|                 0.0| 1200-1259|   null|     null|    null|  null|      1325| 1331.0|     6.0|            6.0|     0.0|               0.0| 1300-1359|      0.0|            null|     0.0|          40.0|             44.0|   null|    1.0|   109.0|            1|        null|        null|    null|         null|             null|        null|         null|           null|              null|          null|                null|       null|       null|       null|         null|            null|        null|          null|            null|         null|       null|       null|         null|            null|        null|          null|            null|         null|       null|       null|         null|            null|        null|          null|            null|         null|       null|       null|         null|            null|        null|          null|            null|         null|       null|       null|         null|            null|        null|          null|            null|         null|       null|\n",
      "| 11|2014|      2|    4|         3|        4|2014-04-03|               WN|                   19393|                         WN|     N374SW|                           1463|          11540|           1154003|             30615|   ELP|         El Paso, TX|         TX|           48.0|          Texas|       74|        11259|         1125903|           30194| DAL|          Dallas, TX|       TX|         48.0|         Texas|     74|      1025| 1025.0|     0.0|            0.0|     0.0|                 0.0| 1000-1059|   10.0|   1035.0|  1252.0|   3.0|      1300| 1255.0|    -5.0|            0.0|     0.0|              -1.0| 1300-1359|      0.0|            null|     0.0|          95.0|             90.0|   77.0|    1.0|   562.0|            3|        null|        null|    null|         null|             null|        null|         null|           null|               0.0|          null|                null|       null|       null|       null|         null|            null|        null|          null|            null|         null|       null|       null|         null|            null|        null|          null|            null|         null|       null|       null|         null|            null|        null|          null|            null|         null|       null|       null|         null|            null|        null|          null|            null|         null|       null|       null|         null|            null|        null|          null|            null|         null|       null|\n",
      "| 12|1994|      3|    7|        24|        7|1994-07-24|               AA|                   19805|                         AA|       null|                            830|          14843|           1484302|             34819|   SJU|        San Juan, PR|         PR|           72.0|    Puerto Rico|        3|        13303|         1330302|           32467| MIA|           Miami, FL|       FL|         12.0|       Florida|     33|      1245| 1242.0|    -3.0|            0.0|     0.0|                -1.0| 1200-1259|   null|     null|    null|  null|      1521| 1511.0|   -10.0|            0.0|     0.0|              -1.0| 1500-1559|      0.0|            null|     0.0|         156.0|            149.0|   null|    1.0|  1045.0|            5|        null|        null|    null|         null|             null|        null|         null|           null|              null|          null|                null|       null|       null|       null|         null|            null|        null|          null|            null|         null|       null|       null|         null|            null|        null|          null|            null|         null|       null|       null|         null|            null|        null|          null|            null|         null|       null|       null|         null|            null|        null|          null|            null|         null|       null|       null|         null|            null|        null|          null|            null|         null|       null|\n",
      "| 13|2013|      2|    6|        30|        7|2013-06-30|               OO|                   20304|                         OO|     N947SW|                           6474|          10140|           1014002|             30140|   ABQ|     Albuquerque, NM|         NM|           35.0|     New Mexico|       86|        12892|         1289203|           32575| LAX|     Los Angeles, CA|       CA|          6.0|    California|     91|      1601| 1557.0|    -4.0|            0.0|     0.0|                -1.0| 1600-1659|    6.0|   1603.0|  1638.0|   8.0|      1705| 1646.0|   -19.0|            0.0|     0.0|              -2.0| 1700-1759|      0.0|            null|     0.0|         124.0|            109.0|   95.0|    1.0|   677.0|            3|        null|        null|    null|         null|             null|        null|         null|           null|               0.0|          null|                null|       null|       null|       null|         null|            null|        null|          null|            null|         null|       null|       null|         null|            null|        null|          null|            null|         null|       null|       null|         null|            null|        null|          null|            null|         null|       null|       null|         null|            null|        null|          null|            null|         null|       null|       null|         null|            null|        null|          null|            null|         null|       null|\n",
      "| 14|2003|      4|   11|        21|        5|2003-11-21|               UA|                   19977|                         UA|     N308UA|                            674|          13930|           1393001|             30977|   ORD|         Chicago, IL|         IL|           17.0|       Illinois|       41|        12953|         1295301|           31703| LGA|        New York, NY|       NY|         36.0|      New York|     22|       900|  855.0|    -5.0|            0.0|     0.0|                -1.0| 0900-0959|   14.0|    909.0|  1148.0|   2.0|      1206| 1150.0|   -16.0|            0.0|     0.0|              -2.0| 1200-1259|      0.0|            null|     0.0|         126.0|            115.0|   99.0|    1.0|   733.0|            3|        null|        null|    null|         null|             null|        null|         null|           null|              null|          null|                null|       null|       null|       null|         null|            null|        null|          null|            null|         null|       null|       null|         null|            null|        null|          null|            null|         null|       null|       null|         null|            null|        null|          null|            null|         null|       null|       null|         null|            null|        null|          null|            null|         null|       null|       null|         null|            null|        null|          null|            null|         null|       null|\n",
      "| 15|1988|      2|    4|         4|        1|1988-04-04|               PI|                   19822|                         PI|       null|                            362|          11995|           1199501|             31995|   GSO|Greensboro/High P...|         NC|           37.0| North Carolina|       36|        10821|         1082102|           30852| BWI|       Baltimore, MD|       MD|         24.0|      Maryland|     35|       630|  631.0|     1.0|            1.0|     0.0|                 0.0| 0600-0659|   null|     null|    null|  null|       728|  737.0|     9.0|            9.0|     0.0|               0.0| 0700-0759|      0.0|            null|     0.0|          58.0|             66.0|   null|    1.0|   278.0|            2|        null|        null|    null|         null|             null|        null|         null|           null|              null|          null|                null|       null|       null|       null|         null|            null|        null|          null|            null|         null|       null|       null|         null|            null|        null|          null|            null|         null|       null|       null|         null|            null|        null|          null|            null|         null|       null|       null|         null|            null|        null|          null|            null|         null|       null|       null|         null|            null|        null|          null|            null|         null|       null|\n",
      "| 16|2007|      3|    9|         5|        3|2007-09-05|               NW|                   19386|                         NW|     N8928E|                           1678|          11433|           1143301|             31295|   DTW|         Detroit, MI|         MI|           26.0|       Michigan|       43|        13184|         1318402|           33184| MBS|Saginaw/Bay City/...|       MI|         26.0|      Michigan|     43|      1201| 1150.0|   -11.0|            0.0|     0.0|                -1.0| 1200-1259|   20.0|   1210.0|  1234.0|   5.0|      1246| 1239.0|    -7.0|            0.0|     0.0|              -1.0| 1200-1259|      0.0|            null|     0.0|          45.0|             49.0|   24.0|    1.0|    98.0|            1|        null|        null|    null|         null|             null|        null|         null|           null|              null|          null|                null|       null|       null|       null|         null|            null|        null|          null|            null|         null|       null|       null|         null|            null|        null|          null|            null|         null|       null|       null|         null|            null|        null|          null|            null|         null|       null|       null|         null|            null|        null|          null|            null|         null|       null|       null|         null|            null|        null|          null|            null|         null|       null|\n",
      "| 17|2015|      3|    9|         5|        6|2015-09-05|               AS|                   19930|                         AS|     N589AS|                            413|          14869|           1486903|             34614|   SLC|  Salt Lake City, UT|         UT|           49.0|           Utah|       87|        14747|         1474703|           30559| SEA|         Seattle, WA|       WA|         53.0|    Washington|     93|      1745| 1733.0|   -12.0|            0.0|     0.0|                -1.0| 1700-1759|    9.0|   1742.0|  1824.0|   8.0|      1855| 1832.0|   -23.0|            0.0|     0.0|              -2.0| 1800-1859|      0.0|            null|     0.0|         130.0|            119.0|  102.0|    1.0|   689.0|            3|        null|        null|    null|         null|             null|        null|         null|           null|               0.0|          null|                null|       null|       null|       null|         null|            null|        null|          null|            null|         null|       null|       null|         null|            null|        null|          null|            null|         null|       null|       null|         null|            null|        null|          null|            null|         null|       null|       null|         null|            null|        null|          null|            null|         null|       null|       null|         null|            null|        null|          null|            null|         null|       null|\n",
      "| 18|2006|      1|    1|        28|        6|2006-01-28|               UA|                   19977|                         UA|     N426UA|                            210|          12892|           1289201|             32575|   LAX|     Los Angeles, CA|         CA|            6.0|     California|       91|        12264|         1226401|           30852| IAD|      Washington, DC|       VA|         51.0|      Virginia|     38|      1545| 1542.0|    -3.0|            0.0|     0.0|                -1.0| 1500-1559|   11.0|   1553.0|  2308.0|   5.0|      2327| 2313.0|   -14.0|            0.0|     0.0|              -1.0| 2300-2359|      0.0|            null|     0.0|         282.0|            271.0|  255.0|    1.0|  2288.0|           10|        null|        null|    null|         null|             null|        null|         null|           null|              null|          null|                null|       null|       null|       null|         null|            null|        null|          null|            null|         null|       null|       null|         null|            null|        null|          null|            null|         null|       null|       null|         null|            null|        null|          null|            null|         null|       null|       null|         null|            null|        null|          null|            null|         null|       null|       null|         null|            null|        null|          null|            null|         null|       null|\n",
      "| 19|2017|      3|    7|        26|        3|2017-07-26|               WN|                   19393|                         WN|     N252WN|                            995|          14893|           1489302|             33192|   SMF|      Sacramento, CA|         CA|            6.0|     California|       91|        12892|         1289205|           32575| LAX|     Los Angeles, CA|       CA|          6.0|    California|     91|      1535|   null|    null|           null|    null|                null| 1500-1559|   null|     null|    null|  null|      1700|   null|    null|           null|    null|              null| 1700-1759|      1.0|               A|     0.0|          85.0|             null|   null|    1.0|   373.0|            2|        null|        null|    null|         null|             null|        null|         null|           null|               0.0|          null|                null|       null|       null|       null|         null|            null|        null|          null|            null|         null|       null|       null|         null|            null|        null|          null|            null|         null|       null|       null|         null|            null|        null|          null|            null|         null|       null|       null|         null|            null|        null|          null|            null|         null|       null|       null|         null|            null|        null|          null|            null|         null|       null|\n",
      "+---+----+-------+-----+----------+---------+----------+-----------------+------------------------+---------------------------+-----------+-------------------------------+---------------+------------------+------------------+------+--------------------+-----------+---------------+---------------+---------+-------------+----------------+----------------+----+--------------------+---------+-------------+--------------+-------+----------+-------+--------+---------------+--------+--------------------+----------+-------+---------+--------+------+----------+-------+--------+---------------+--------+------------------+----------+---------+----------------+--------+--------------+-----------------+-------+-------+--------+-------------+------------+------------+--------+-------------+-----------------+------------+-------------+---------------+------------------+--------------+--------------------+-----------+-----------+-----------+-------------+----------------+------------+--------------+----------------+-------------+-----------+-----------+-------------+----------------+------------+--------------+----------------+-------------+-----------+-----------+-------------+----------------+------------+--------------+----------------+-------------+-----------+-----------+-------------+----------------+------------+--------------+----------------+-------------+-----------+-----------+-------------+----------------+------------+--------------+----------------+-------------+-----------+\n",
      "only showing top 20 rows\n",
      "\n"
     ]
    }
   ],
   "source": [
    "#to create data frame fromexternal data\n",
    "df=spark.read.option(\"header\",\"true\").csv(r\"C:\\Users\\91976\\Downloads\\data\\airlines1.csv\")\n",
    "df.show()"
   ]
  },
  {
   "cell_type": "code",
   "execution_count": 14,
   "id": "87ae8bf4",
   "metadata": {},
   "outputs": [
    {
     "data": {
      "text/plain": [
       "['_c0', 'Year', 'Quarter', 'Month', 'DayofMonth']"
      ]
     },
     "execution_count": 14,
     "metadata": {},
     "output_type": "execute_result"
    }
   ],
   "source": [
    "df.columns[:5]"
   ]
  },
  {
   "cell_type": "code",
   "execution_count": 15,
   "id": "751793ef",
   "metadata": {},
   "outputs": [
    {
     "name": "stdout",
     "output_type": "stream",
     "text": [
      "+---+----+-----+----------+----------+-----------+-------------------------------+\n",
      "|_c0|Year|Month|DayofMonth|FlightDate|Tail_Number|Flight_Number_Reporting_Airline|\n",
      "+---+----+-----+----------+----------+-----------+-------------------------------+\n",
      "|  0|1998|    1|         2|1998-01-02|     N297US|                            675|\n",
      "|  1|2009|    5|        28|2009-05-28|     N946AT|                            671|\n",
      "|  2|2013|    6|        29|2013-06-29|     N665MQ|                           3297|\n",
      "|  3|2010|    8|        31|2010-08-31|     N6705Y|                           1806|\n",
      "|  4|2006|    1|        15|2006-01-15|     N504AU|                            465|\n",
      "|  5|1995|   11|        29|1995-11-29|     N925DL|                           1198|\n",
      "|  6|2006|    8|         7|2006-08-07|     N27724|                           1431|\n",
      "|  7|2019|    6|        11|2019-06-11|     N927XJ|                           3459|\n",
      "|  8|2008|    8|         3|2008-08-03|     N522LR|                           7233|\n",
      "|  9|2018|    2|         8|2018-02-08|     N8688J|                           5932|\n",
      "| 10|1991|   11|        21|1991-11-21|       null|                           2135|\n",
      "| 11|2014|    4|         3|2014-04-03|     N374SW|                           1463|\n",
      "| 12|1994|    7|        24|1994-07-24|       null|                            830|\n",
      "| 13|2013|    6|        30|2013-06-30|     N947SW|                           6474|\n",
      "| 14|2003|   11|        21|2003-11-21|     N308UA|                            674|\n",
      "| 15|1988|    4|         4|1988-04-04|       null|                            362|\n",
      "| 16|2007|    9|         5|2007-09-05|     N8928E|                           1678|\n",
      "| 17|2015|    9|         5|2015-09-05|     N589AS|                            413|\n",
      "| 18|2006|    1|        28|2006-01-28|     N426UA|                            210|\n",
      "| 19|2017|    7|        26|2017-07-26|     N252WN|                            995|\n",
      "+---+----+-----+----------+----------+-----------+-------------------------------+\n",
      "only showing top 20 rows\n",
      "\n"
     ]
    }
   ],
   "source": [
    "flight_details=df.select('_c0', 'Year', 'Month', 'DayofMonth','FlightDate','Tail_Number','Flight_Number_Reporting_Airline')\n",
    "flight_details.show()"
   ]
  },
  {
   "cell_type": "code",
   "execution_count": 16,
   "id": "949ff1d9",
   "metadata": {},
   "outputs": [
    {
     "name": "stdout",
     "output_type": "stream",
     "text": [
      "+----+-----+\n",
      "|Year|count|\n",
      "+----+-----+\n",
      "|1987|  339|\n",
      "|2016| 1502|\n",
      "|2020|  462|\n",
      "|2012| 1519|\n",
      "|1988| 1310|\n",
      "|2019| 1900|\n",
      "|2017| 1449|\n",
      "|2014| 1513|\n",
      "|2013| 1690|\n",
      "|2005| 1812|\n",
      "|2000| 1477|\n",
      "|2002| 1371|\n",
      "|2009| 1604|\n",
      "|2018| 1862|\n",
      "|1995| 1377|\n",
      "|2006| 1900|\n",
      "|2004| 1847|\n",
      "|2011| 1551|\n",
      "|1989| 1288|\n",
      "|1992| 1335|\n",
      "+----+-----+\n",
      "only showing top 20 rows\n",
      "\n"
     ]
    }
   ],
   "source": [
    "flight_details.select('Year').groupBy('Year').count().show()"
   ]
  },
  {
   "cell_type": "code",
   "execution_count": 18,
   "id": "1842a080",
   "metadata": {},
   "outputs": [
    {
     "name": "stdout",
     "output_type": "stream",
     "text": [
      "+------+-----+\n",
      "|Origin|count|\n",
      "+------+-----+\n",
      "|   BGM|   11|\n",
      "|   INL|    1|\n",
      "|   MSY|  383|\n",
      "|   GEG|  118|\n",
      "|   BUR|  222|\n",
      "|   SNA|  339|\n",
      "|   GRB|   42|\n",
      "|   GTF|   27|\n",
      "|   IDA|   17|\n",
      "|   GRR|  106|\n",
      "|   EUG|   34|\n",
      "|   PSG|   11|\n",
      "|   GSO|  124|\n",
      "|   PVD|  141|\n",
      "|   MYR|   41|\n",
      "|   OAK|  435|\n",
      "|   MSN|   81|\n",
      "|   FAR|   29|\n",
      "|   COD|    3|\n",
      "|   FSM|    5|\n",
      "+------+-----+\n",
      "only showing top 20 rows\n",
      "\n"
     ]
    }
   ],
   "source": [
    "df.select('Origin').groupBy('Origin').count().show()"
   ]
  },
  {
   "cell_type": "code",
   "execution_count": 20,
   "id": "6e0773eb",
   "metadata": {},
   "outputs": [
    {
     "name": "stdout",
     "output_type": "stream",
     "text": [
      "+----+\n",
      "|Year|\n",
      "+----+\n",
      "|2017|\n",
      "|2001|\n",
      "|2001|\n",
      "|2007|\n",
      "|2004|\n",
      "|1998|\n",
      "|1997|\n",
      "|2012|\n",
      "|2000|\n",
      "|2007|\n",
      "|2001|\n",
      "|1998|\n",
      "|2001|\n",
      "|1995|\n",
      "|2001|\n",
      "|2016|\n",
      "|2018|\n",
      "|2006|\n",
      "|2015|\n",
      "|1996|\n",
      "+----+\n",
      "only showing top 20 rows\n",
      "\n"
     ]
    }
   ],
   "source": [
    "df.select('Year').filter('Cancelled = 1').show()"
   ]
  },
  {
   "cell_type": "code",
   "execution_count": 21,
   "id": "51f1f4b6",
   "metadata": {},
   "outputs": [],
   "source": [
    "flight_cancel=df.select(\"_c0\",\"Cancelled\",\"CancellationCode\",\"Diverted\",\"Flights\")"
   ]
  },
  {
   "cell_type": "code",
   "execution_count": 22,
   "id": "2135819e",
   "metadata": {},
   "outputs": [
    {
     "name": "stdout",
     "output_type": "stream",
     "text": [
      "+---+---------+----------------+--------+-------+\n",
      "|_c0|Cancelled|CancellationCode|Diverted|Flights|\n",
      "+---+---------+----------------+--------+-------+\n",
      "|  0|      0.0|            null|     0.0|    1.0|\n",
      "|  1|      0.0|            null|     0.0|    1.0|\n",
      "|  2|      0.0|            null|     0.0|    1.0|\n",
      "|  3|      0.0|            null|     0.0|    1.0|\n",
      "|  4|      0.0|            null|     0.0|    1.0|\n",
      "|  5|      0.0|            null|     0.0|    1.0|\n",
      "|  6|      0.0|            null|     0.0|    1.0|\n",
      "|  7|      0.0|            null|     0.0|    1.0|\n",
      "|  8|      0.0|            null|     0.0|    1.0|\n",
      "|  9|      0.0|            null|     0.0|    1.0|\n",
      "| 10|      0.0|            null|     0.0|    1.0|\n",
      "| 11|      0.0|            null|     0.0|    1.0|\n",
      "| 12|      0.0|            null|     0.0|    1.0|\n",
      "| 13|      0.0|            null|     0.0|    1.0|\n",
      "| 14|      0.0|            null|     0.0|    1.0|\n",
      "| 15|      0.0|            null|     0.0|    1.0|\n",
      "| 16|      0.0|            null|     0.0|    1.0|\n",
      "| 17|      0.0|            null|     0.0|    1.0|\n",
      "| 18|      0.0|            null|     0.0|    1.0|\n",
      "| 19|      1.0|               A|     0.0|    1.0|\n",
      "+---+---------+----------------+--------+-------+\n",
      "only showing top 20 rows\n",
      "\n"
     ]
    }
   ],
   "source": [
    "flight_cancel.show()"
   ]
  },
  {
   "cell_type": "code",
   "execution_count": 23,
   "id": "24b1a407",
   "metadata": {},
   "outputs": [
    {
     "name": "stdout",
     "output_type": "stream",
     "text": [
      "+---+---------+----------------+--------+-------+\n",
      "| ID|Cancelled|CancellationCode|Diverted|Flights|\n",
      "+---+---------+----------------+--------+-------+\n",
      "|  0|      0.0|            null|     0.0|    1.0|\n",
      "|  1|      0.0|            null|     0.0|    1.0|\n",
      "|  2|      0.0|            null|     0.0|    1.0|\n",
      "|  3|      0.0|            null|     0.0|    1.0|\n",
      "|  4|      0.0|            null|     0.0|    1.0|\n",
      "|  5|      0.0|            null|     0.0|    1.0|\n",
      "|  6|      0.0|            null|     0.0|    1.0|\n",
      "|  7|      0.0|            null|     0.0|    1.0|\n",
      "|  8|      0.0|            null|     0.0|    1.0|\n",
      "|  9|      0.0|            null|     0.0|    1.0|\n",
      "| 10|      0.0|            null|     0.0|    1.0|\n",
      "| 11|      0.0|            null|     0.0|    1.0|\n",
      "| 12|      0.0|            null|     0.0|    1.0|\n",
      "| 13|      0.0|            null|     0.0|    1.0|\n",
      "| 14|      0.0|            null|     0.0|    1.0|\n",
      "| 15|      0.0|            null|     0.0|    1.0|\n",
      "| 16|      0.0|            null|     0.0|    1.0|\n",
      "| 17|      0.0|            null|     0.0|    1.0|\n",
      "| 18|      0.0|            null|     0.0|    1.0|\n",
      "| 19|      1.0|               A|     0.0|    1.0|\n",
      "+---+---------+----------------+--------+-------+\n",
      "only showing top 20 rows\n",
      "\n"
     ]
    }
   ],
   "source": [
    "flight_cancel=flight_cancel.withColumnRenamed('_c0','ID')\n",
    "flight_cancel.show()"
   ]
  },
  {
   "cell_type": "code",
   "execution_count": 25,
   "id": "9d219458",
   "metadata": {},
   "outputs": [
    {
     "name": "stdout",
     "output_type": "stream",
     "text": [
      "+----+---------+----------------+--------+-------+\n",
      "|  ID|Cancelled|CancellationCode|Diverted|Flights|\n",
      "+----+---------+----------------+--------+-------+\n",
      "|  19|      1.0|               A|     0.0|    1.0|\n",
      "| 146|      1.0|               B|     0.0|    1.0|\n",
      "| 197|      1.0|               C|     0.0|    1.0|\n",
      "| 554|      1.0|               A|     0.0|    1.0|\n",
      "| 680|      1.0|               A|     0.0|    1.0|\n",
      "| 841|      1.0|               A|     0.0|    1.0|\n",
      "| 905|      1.0|               B|     0.0|    1.0|\n",
      "| 911|      1.0|               B|     0.0|    1.0|\n",
      "| 965|      1.0|               B|     0.0|    1.0|\n",
      "|1082|      1.0|               C|     0.0|    1.0|\n",
      "|1246|      1.0|               A|     0.0|    1.0|\n",
      "|1443|      1.0|               B|     0.0|    1.0|\n",
      "|1450|      1.0|               A|     0.0|    1.0|\n",
      "|1633|      1.0|               A|     0.0|    1.0|\n",
      "|1730|      1.0|               B|     0.0|    1.0|\n",
      "|1773|      1.0|               C|     0.0|    1.0|\n",
      "|1904|      1.0|               B|     0.0|    1.0|\n",
      "|1908|      1.0|               B|     0.0|    1.0|\n",
      "|1913|      1.0|               A|     0.0|    1.0|\n",
      "|2450|      1.0|               A|     0.0|    1.0|\n",
      "+----+---------+----------------+--------+-------+\n",
      "only showing top 20 rows\n",
      "\n"
     ]
    }
   ],
   "source": [
    "flight_cancel.na.drop().show()"
   ]
  },
  {
   "cell_type": "code",
   "execution_count": 26,
   "id": "9975bfaa",
   "metadata": {},
   "outputs": [],
   "source": [
    "from pyspark.sql.window import Window\n",
    "from pyspark.sql.functions import row_number"
   ]
  },
  {
   "cell_type": "code",
   "execution_count": 29,
   "id": "709cb90b",
   "metadata": {},
   "outputs": [
    {
     "name": "stdout",
     "output_type": "stream",
     "text": [
      "+-----+----+-------+-----+----------+---------+----------+-----------------+------------------------+---------------------------+-----------+-------------------------------+---------------+------------------+------------------+------+----------------+-----------+---------------+---------------+---------+-------------+----------------+----------------+----+----------------+---------+-------------+-------------+-------+----------+-------+--------+---------------+--------+--------------------+----------+-------+---------+--------+------+----------+-------+--------+---------------+--------+------------------+----------+---------+----------------+--------+--------------+-----------------+-------+-------+--------+-------------+------------+------------+--------+-------------+-----------------+------------+-------------+---------------+------------------+--------------+--------------------+-----------+-----------+-----------+-------------+----------------+------------+--------------+----------------+-------------+-----------+-----------+-------------+----------------+------------+--------------+----------------+-------------+-----------+-----------+-------------+----------------+------------+--------------+----------------+-------------+-----------+-----------+-------------+----------------+------------+--------------+----------------+-------------+-----------+-----------+-------------+----------------+------------+--------------+----------------+-------------+-----------+----------+\n",
      "|  _c0|Year|Quarter|Month|DayofMonth|DayOfWeek|FlightDate|Reporting_Airline|DOT_ID_Reporting_Airline|IATA_CODE_Reporting_Airline|Tail_Number|Flight_Number_Reporting_Airline|OriginAirportID|OriginAirportSeqID|OriginCityMarketID|Origin|  OriginCityName|OriginState|OriginStateFips|OriginStateName|OriginWac|DestAirportID|DestAirportSeqID|DestCityMarketID|Dest|    DestCityName|DestState|DestStateFips|DestStateName|DestWac|CRSDepTime|DepTime|DepDelay|DepDelayMinutes|DepDel15|DepartureDelayGroups|DepTimeBlk|TaxiOut|WheelsOff|WheelsOn|TaxiIn|CRSArrTime|ArrTime|ArrDelay|ArrDelayMinutes|ArrDel15|ArrivalDelayGroups|ArrTimeBlk|Cancelled|CancellationCode|Diverted|CRSElapsedTime|ActualElapsedTime|AirTime|Flights|Distance|DistanceGroup|CarrierDelay|WeatherDelay|NASDelay|SecurityDelay|LateAircraftDelay|FirstDepTime|TotalAddGTime|LongestAddGTime|DivAirportLandings|DivReachedDest|DivActualElapsedTime|DivArrDelay|DivDistance|Div1Airport|Div1AirportID|Div1AirportSeqID|Div1WheelsOn|Div1TotalGTime|Div1LongestGTime|Div1WheelsOff|Div1TailNum|Div2Airport|Div2AirportID|Div2AirportSeqID|Div2WheelsOn|Div2TotalGTime|Div2LongestGTime|Div2WheelsOff|Div2TailNum|Div3Airport|Div3AirportID|Div3AirportSeqID|Div3WheelsOn|Div3TotalGTime|Div3LongestGTime|Div3WheelsOff|Div3TailNum|Div4Airport|Div4AirportID|Div4AirportSeqID|Div4WheelsOn|Div4TotalGTime|Div4LongestGTime|Div4WheelsOff|Div4TailNum|Div5Airport|Div5AirportID|Div5AirportSeqID|Div5WheelsOn|Div5TotalGTime|Div5LongestGTime|Div5WheelsOff|Div5TailNum|row_number|\n",
      "+-----+----+-------+-----+----------+---------+----------+-----------------+------------------------+---------------------------+-----------+-------------------------------+---------------+------------------+------------------+------+----------------+-----------+---------------+---------------+---------+-------------+----------------+----------------+----+----------------+---------+-------------+-------------+-------+----------+-------+--------+---------------+--------+--------------------+----------+-------+---------+--------+------+----------+-------+--------+---------------+--------+------------------+----------+---------+----------------+--------+--------------+-----------------+-------+-------+--------+-------------+------------+------------+--------+-------------+-----------------+------------+-------------+---------------+------------------+--------------+--------------------+-----------+-----------+-----------+-------------+----------------+------------+--------------+----------------+-------------+-----------+-----------+-------------+----------------+------------+--------------+----------------+-------------+-----------+-----------+-------------+----------------+------------+--------------+----------------+-------------+-----------+-----------+-------------+----------------+------------+--------------+----------------+-------------+-----------+-----------+-------------+----------------+------------+--------------+----------------+-------------+-----------+----------+\n",
      "|12400|2018|      3|    7|        30|        1|2018-07-30|               G4|                   20368|                         G4|      220NV|                            118|          10466|           1046602|             30466|   AZA|     Phoenix, AZ|         AZ|            4.0|        Arizona|       81|        13264|         1326403|           33264| MFR|     Medford, OR|       OR|         41.0|       Oregon|     92|       610|  610.0|     0.0|            0.0|     0.0|                 0.0| 0600-0659|   10.0|    620.0|   823.0|   5.0|       827|  828.0|     1.0|            1.0|     0.0|               0.0| 0800-0859|      0.0|            null|     0.0|         137.0|            138.0|  123.0|    1.0|   875.0|            4|        null|        null|    null|         null|             null|        null|         null|           null|               0.0|          null|                null|       null|       null|       null|         null|            null|        null|          null|            null|         null|       null|       null|         null|            null|        null|          null|            null|         null|       null|       null|         null|            null|        null|          null|            null|         null|       null|       null|         null|            null|        null|          null|            null|         null|       null|       null|         null|            null|        null|          null|            null|         null|       null|         1|\n",
      "|37101|2020|      1|    2|        13|        4|2020-02-13|               G4|                   20368|                         G4|      257NV|                            578|          10466|           1046602|             30466|   AZA|     Phoenix, AZ|         AZ|            4.0|        Arizona|       81|        13486|         1348602|           33486| MSO|    Missoula, MT|       MT|         30.0|      Montana|     84|       610|  605.0|    -5.0|            0.0|     0.0|                -1.0| 0600-0659|   13.0|    618.0|   835.0|   4.0|       841|  839.0|    -2.0|            0.0|     0.0|              -1.0| 0800-0859|      0.0|            null|     0.0|         151.0|            154.0|  137.0|    1.0|   948.0|            4|        null|        null|    null|         null|             null|        null|         null|           null|               0.0|          null|                null|       null|       null|       null|         null|            null|        null|          null|            null|         null|       null|       null|         null|            null|        null|          null|            null|         null|       null|       null|         null|            null|        null|          null|            null|         null|       null|       null|         null|            null|        null|          null|            null|         null|       null|       null|         null|            null|        null|          null|            null|         null|       null|         2|\n",
      "|37704|2018|      4|   11|        15|        4|2018-11-15|               G4|                   20368|                         G4|      249NV|                            584|          10466|           1046602|             30466|   AZA|     Phoenix, AZ|         AZ|            4.0|        Arizona|       81|        11603|         1160302|           31603| EUG|      Eugene, OR|       OR|         41.0|       Oregon|     92|       610|  610.0|     0.0|            0.0|     0.0|                 0.0| 0600-0659|   11.0|    621.0|  1301.0|   7.0|       755| 1308.0|    null|           null|    null|              null| 0700-0759|      0.0|            null|     1.0|         165.0|             null|   null|    1.0|   971.0|            4|        null|        null|    null|         null|             null|        null|         null|           null|               1.0|           1.0|               478.0|      313.0|        0.0|        PSC|      14252.0|       1425202.0|       830.0|          10.0|             6.0|       1221.0|      249NV|       null|         null|            null|        null|          null|            null|         null|       null|       null|         null|            null|        null|          null|            null|         null|       null|       null|         null|            null|        null|          null|            null|         null|       null|       null|         null|            null|        null|          null|            null|         null|       null|         3|\n",
      "| 2518|1988|      3|    7|        25|        1|1988-07-25|               HP|                   19991|                         HP|       null|                           1088|          11695|           1169501|             31695|   FLG|   Flagstaff, AZ|         AZ|            4.0|        Arizona|       81|        11869|         1186901|           30463| GCN|Grand Canyon, AZ|       AZ|          4.0|      Arizona|     81|      1300| 1308.0|     8.0|            8.0|     0.0|                 0.0| 1300-1359|   null|     null|    null|  null|      1330| 1335.0|     5.0|            5.0|     0.0|               0.0| 1300-1359|      0.0|            null|     0.0|          30.0|             27.0|   null|    1.0|    62.0|            1|        null|        null|    null|         null|             null|        null|         null|           null|              null|          null|                null|       null|       null|       null|         null|            null|        null|          null|            null|         null|       null|       null|         null|            null|        null|          null|            null|         null|       null|       null|         null|            null|        null|          null|            null|         null|       null|       null|         null|            null|        null|          null|            null|         null|       null|       null|         null|            null|        null|          null|            null|         null|       null|         4|\n",
      "|10902|2019|      2|    4|        22|        1|2019-04-22|               OO|                   20304|                         OO|     N748SK|                           2994|          11695|           1169502|             31695|   FLG|   Flagstaff, AZ|         AZ|            4.0|        Arizona|       81|        14107|         1410702|           30466| PHX|     Phoenix, AZ|       AZ|          4.0|      Arizona|     81|      1031| 1019.0|   -12.0|            0.0|     0.0|                -1.0| 1000-1059|   23.0|   1042.0|  1112.0|   5.0|      1128| 1117.0|   -11.0|            0.0|     0.0|              -1.0| 1100-1159|      0.0|            null|     0.0|          57.0|             58.0|   30.0|    1.0|   119.0|            1|        null|        null|    null|         null|             null|        null|         null|           null|               0.0|          null|                null|       null|       null|       null|         null|            null|        null|          null|            null|         null|       null|       null|         null|            null|        null|          null|            null|         null|       null|       null|         null|            null|        null|          null|            null|         null|       null|       null|         null|            null|        null|          null|            null|         null|       null|       null|         null|            null|        null|          null|            null|         null|       null|         5|\n",
      "|18801|2006|      4|   12|        25|        1|2006-12-25|               YV|                   20378|                         YV|     N988HA|                           2858|          11695|           1169501|             31695|   FLG|   Flagstaff, AZ|         AZ|            4.0|        Arizona|       81|        14107|         1410701|           30466| PHX|     Phoenix, AZ|       AZ|          4.0|      Arizona|     81|      1720| 1710.0|   -10.0|            0.0|     0.0|                -1.0| 1700-1759|    4.0|   1714.0|  1743.0|  11.0|      1818| 1754.0|   -24.0|            0.0|     0.0|              -2.0| 1800-1859|      0.0|            null|     0.0|          58.0|             44.0|   29.0|    1.0|   119.0|            1|        null|        null|    null|         null|             null|        null|         null|           null|              null|          null|                null|       null|       null|       null|         null|            null|        null|          null|            null|         null|       null|       null|         null|            null|        null|          null|            null|         null|       null|       null|         null|            null|        null|          null|            null|         null|       null|       null|         null|            null|        null|          null|            null|         null|       null|       null|         null|            null|        null|          null|            null|         null|       null|         6|\n",
      "|21841|1989|      2|    5|        29|        1|1989-05-29|               HP|                   19991|                         HP|       null|                           1081|          11695|           1169501|             31695|   FLG|   Flagstaff, AZ|         AZ|            4.0|        Arizona|       81|        14107|         1410701|           30466| PHX|     Phoenix, AZ|       AZ|          4.0|      Arizona|     81|       640|  640.0|     0.0|            0.0|     0.0|                 0.0| 0600-0659|   null|     null|    null|  null|       720|  725.0|     5.0|            5.0|     0.0|               0.0| 0700-0759|      0.0|            null|     0.0|          40.0|             45.0|   null|    1.0|   119.0|            1|        null|        null|    null|         null|             null|        null|         null|           null|              null|          null|                null|       null|       null|       null|         null|            null|        null|          null|            null|         null|       null|       null|         null|            null|        null|          null|            null|         null|       null|       null|         null|            null|        null|          null|            null|         null|       null|       null|         null|            null|        null|          null|            null|         null|       null|       null|         null|            null|        null|          null|            null|         null|       null|         7|\n",
      "|22464|2009|      1|    1|         3|        6|2009-01-03|               YV|                   20378|                         YV|     N437YV|                           2854|          11695|           1169501|             31695|   FLG|   Flagstaff, AZ|         AZ|            4.0|        Arizona|       81|        14107|         1410701|           30466| PHX|     Phoenix, AZ|       AZ|          4.0|      Arizona|     81|      1114| 1112.0|    -2.0|            0.0|     0.0|                -1.0| 1100-1159|   20.0|   1132.0|  1220.0|   5.0|      1218| 1225.0|     7.0|            7.0|     0.0|               0.0| 1200-1259|      0.0|            null|     0.0|          64.0|             73.0|   48.0|    1.0|   119.0|            1|        null|        null|    null|         null|             null|        null|         null|           null|               0.0|          null|                null|       null|       null|       null|         null|            null|        null|          null|            null|         null|       null|       null|         null|            null|        null|          null|            null|         null|       null|       null|         null|            null|        null|          null|            null|         null|       null|       null|         null|            null|        null|          null|            null|         null|       null|       null|         null|            null|        null|          null|            null|         null|       null|         8|\n",
      "|24664|2009|      3|    8|        24|        1|2009-08-24|               YV|                   20378|                         YV|     N989HA|                           2856|          11695|           1169501|             31695|   FLG|   Flagstaff, AZ|         AZ|            4.0|        Arizona|       81|        14107|         1410701|           30466| PHX|     Phoenix, AZ|       AZ|          4.0|      Arizona|     81|      1315| 1305.0|   -10.0|            0.0|     0.0|                -1.0| 1300-1359|   11.0|   1316.0|  1356.0|  10.0|      1415| 1406.0|    -9.0|            0.0|     0.0|              -1.0| 1400-1459|      0.0|            null|     0.0|          60.0|             61.0|   40.0|    1.0|   119.0|            1|        null|        null|    null|         null|             null|        null|         null|           null|               0.0|          null|                null|       null|       null|       null|         null|            null|        null|          null|            null|         null|       null|       null|         null|            null|        null|          null|            null|         null|       null|       null|         null|            null|        null|          null|            null|         null|       null|       null|         null|            null|        null|          null|            null|         null|       null|       null|         null|            null|        null|          null|            null|         null|       null|         9|\n",
      "|35042|2009|      4|   10|        18|        7|2009-10-18|               YV|                   20378|                         YV|     N17358|                           2860|          11695|           1169501|             31695|   FLG|   Flagstaff, AZ|         AZ|            4.0|        Arizona|       81|        14107|         1410701|           30466| PHX|     Phoenix, AZ|       AZ|          4.0|      Arizona|     81|      1635| 1632.0|    -3.0|            0.0|     0.0|                -1.0| 1600-1659|    8.0|   1640.0|  1715.0|   7.0|      1739| 1722.0|   -17.0|            0.0|     0.0|              -2.0| 1700-1759|      0.0|            null|     0.0|          64.0|             50.0|   35.0|    1.0|   119.0|            1|        null|        null|    null|         null|             null|        null|         null|           null|               0.0|          null|                null|       null|       null|       null|         null|            null|        null|          null|            null|         null|       null|       null|         null|            null|        null|          null|            null|         null|       null|       null|         null|            null|        null|          null|            null|         null|       null|       null|         null|            null|        null|          null|            null|         null|       null|       null|         null|            null|        null|          null|            null|         null|       null|        10|\n",
      "|43854|2016|      3|    7|        27|        3|2016-07-27|               OO|                   20304|                         OO|     N477CA|                           3084|          11695|           1169502|             31695|   FLG|   Flagstaff, AZ|         AZ|            4.0|        Arizona|       81|        14107|         1410702|           30466| PHX|     Phoenix, AZ|       AZ|          4.0|      Arizona|     81|      1020| 1017.0|    -3.0|            0.0|     0.0|                -1.0| 1000-1059|   12.0|   1029.0|  1053.0|   7.0|      1115| 1100.0|   -15.0|            0.0|     0.0|              -1.0| 1100-1159|      0.0|            null|     0.0|          55.0|             43.0|   24.0|    1.0|   119.0|            1|        null|        null|    null|         null|             null|        null|         null|           null|               0.0|          null|                null|       null|       null|       null|         null|            null|        null|          null|            null|         null|       null|       null|         null|            null|        null|          null|            null|         null|       null|       null|         null|            null|        null|          null|            null|         null|       null|       null|         null|            null|        null|          null|            null|         null|       null|       null|         null|            null|        null|          null|            null|         null|       null|        11|\n",
      "|49606|2012|      2|    5|         7|        1|2012-05-07|               YV|                   20378|                         YV|     N434YV|                           2795|          11695|           1169502|             31695|   FLG|   Flagstaff, AZ|         AZ|            4.0|        Arizona|       81|        14107|         1410702|           30466| PHX|     Phoenix, AZ|       AZ|          4.0|      Arizona|     81|      1140| 1130.0|   -10.0|            0.0|     0.0|                -1.0| 1100-1159|   10.0|   1140.0|  1225.0|   5.0|      1244| 1230.0|   -14.0|            0.0|     0.0|              -1.0| 1200-1259|      0.0|            null|     0.0|          64.0|             60.0|   45.0|    1.0|   119.0|            1|        null|        null|    null|         null|             null|        null|         null|           null|               0.0|          null|                null|       null|       null|       null|         null|            null|        null|          null|            null|         null|       null|       null|         null|            null|        null|          null|            null|         null|       null|       null|         null|            null|        null|          null|            null|         null|       null|       null|         null|            null|        null|          null|            null|         null|       null|       null|         null|            null|        null|          null|            null|         null|       null|        12|\n",
      "|17579|1990|      1|    1|         6|        6|1990-01-06|               HP|                   19991|                         HP|       null|                           1071|          11869|           1186901|             30463|   GCN|Grand Canyon, AZ|         AZ|            4.0|        Arizona|       81|        11695|         1169501|           31695| FLG|   Flagstaff, AZ|       AZ|          4.0|      Arizona|     81|      1000| 1000.0|     0.0|            0.0|     0.0|                 0.0| 1000-1059|   null|     null|    null|  null|      1025| 1023.0|    -2.0|            0.0|     0.0|              -1.0| 1000-1059|      0.0|            null|     0.0|          25.0|             23.0|   null|    1.0|    62.0|            1|        null|        null|    null|         null|             null|        null|         null|           null|              null|          null|                null|       null|       null|       null|         null|            null|        null|          null|            null|         null|       null|       null|         null|            null|        null|          null|            null|         null|       null|       null|         null|            null|        null|          null|            null|         null|       null|       null|         null|            null|        null|          null|            null|         null|       null|       null|         null|            null|        null|          null|            null|         null|       null|        13|\n",
      "|28851|1991|      1|    1|         7|        1|1991-01-07|               HP|                   19991|                         HP|       null|                           1027|          11869|           1186901|             30463|   GCN|Grand Canyon, AZ|         AZ|            4.0|        Arizona|       81|        12889|         1288902|           32211| LAS|   Las Vegas, NV|       NV|         32.0|       Nevada|     85|      1130| 1130.0|     0.0|            0.0|     0.0|                 0.0| 1100-1159|   null|     null|    null|  null|      1122| 1117.0|    -5.0|            0.0|     0.0|              -1.0| 1100-1159|      0.0|            null|     0.0|          52.0|             47.0|   null|    1.0|   169.0|            1|        null|        null|    null|         null|             null|        null|         null|           null|              null|          null|                null|       null|       null|       null|         null|            null|        null|          null|            null|         null|       null|       null|         null|            null|        null|          null|            null|         null|       null|       null|         null|            null|        null|          null|            null|         null|       null|       null|         null|            null|        null|          null|            null|         null|       null|       null|         null|            null|        null|          null|            null|         null|       null|        14|\n",
      "|36800|1989|      3|    7|        25|        2|1989-07-25|               HP|                   19991|                         HP|       null|                           1091|          11869|           1186901|             30463|   GCN|Grand Canyon, AZ|         AZ|            4.0|        Arizona|       81|        14107|         1410701|           30466| PHX|     Phoenix, AZ|       AZ|          4.0|      Arizona|     81|      1725| 1725.0|     0.0|            0.0|     0.0|                 0.0| 1700-1759|   null|     null|    null|  null|      1820| 1821.0|     1.0|            1.0|     0.0|               0.0| 1800-1859|      0.0|            null|     0.0|          55.0|             56.0|   null|    1.0|   174.0|            1|        null|        null|    null|         null|             null|        null|         null|           null|              null|          null|                null|       null|       null|       null|         null|            null|        null|          null|            null|         null|       null|       null|         null|            null|        null|          null|            null|         null|       null|       null|         null|            null|        null|          null|            null|         null|       null|       null|         null|            null|        null|          null|            null|         null|       null|       null|         null|            null|        null|          null|            null|         null|       null|        15|\n",
      "|   23|2020|      1|    3|        24|        2|2020-03-24|               YV|                   20378|                         YV|     N933LR|                           5825|          14107|           1410702|             30466|   PHX|     Phoenix, AZ|         AZ|            4.0|        Arizona|       81|        12954|         1295407|           32575| LGB|  Long Beach, CA|       CA|          6.0|   California|     91|      1858| 1950.0|    52.0|           52.0|     1.0|                 3.0| 1800-1859|    9.0|   1959.0|  2101.0|   4.0|      2021| 2105.0|    44.0|           44.0|     1.0|               2.0| 2000-2059|      0.0|            null|     0.0|          83.0|             75.0|   62.0|    1.0|   355.0|            2|        44.0|         0.0|     0.0|          0.0|              0.0|        null|         null|           null|               0.0|          null|                null|       null|       null|       null|         null|            null|        null|          null|            null|         null|       null|       null|         null|            null|        null|          null|            null|         null|       null|       null|         null|            null|        null|          null|            null|         null|       null|       null|         null|            null|        null|          null|            null|         null|       null|       null|         null|            null|        null|          null|            null|         null|       null|        16|\n",
      "|   49|1999|      2|    5|        31|        1|1999-05-31|               HP|                   19991|                         HP|     N906AW|                           2038|          14107|           1410701|             30466|   PHX|     Phoenix, AZ|         AZ|            4.0|        Arizona|       81|        12892|         1289201|           32575| LAX| Los Angeles, CA|       CA|          6.0|   California|     91|      2113| 2138.0|    25.0|           25.0|     1.0|                 1.0| 2100-2159|    6.0|   2144.0|  2241.0|   8.0|      2230| 2249.0|    19.0|           19.0|     1.0|               1.0| 2200-2259|      0.0|            null|     0.0|          77.0|             71.0|   57.0|    1.0|   370.0|            2|        null|        null|    null|         null|             null|        null|         null|           null|              null|          null|                null|       null|       null|       null|         null|            null|        null|          null|            null|         null|       null|       null|         null|            null|        null|          null|            null|         null|       null|       null|         null|            null|        null|          null|            null|         null|       null|       null|         null|            null|        null|          null|            null|         null|       null|       null|         null|            null|        null|          null|            null|         null|       null|        17|\n",
      "|   50|2014|      2|    6|        12|        4|2014-06-12|               WN|                   19393|                         WN|     N488WN|                            141|          14107|           1410702|             30466|   PHX|     Phoenix, AZ|         AZ|            4.0|        Arizona|       81|        14908|         1490803|           32575| SNA|   Santa Ana, CA|       CA|          6.0|   California|     91|       835|  907.0|    32.0|           32.0|     1.0|                 2.0| 0800-0859|   20.0|    927.0|  1022.0|   3.0|       950| 1025.0|    35.0|           35.0|     1.0|               2.0| 0900-0959|      0.0|            null|     0.0|          75.0|             78.0|   55.0|    1.0|   338.0|            2|        24.0|         0.0|     3.0|          0.0|              8.0|        null|         null|           null|               0.0|          null|                null|       null|       null|       null|         null|            null|        null|          null|            null|         null|       null|       null|         null|            null|        null|          null|            null|         null|       null|       null|         null|            null|        null|          null|            null|         null|       null|       null|         null|            null|        null|          null|            null|         null|       null|       null|         null|            null|        null|          null|            null|         null|       null|        18|\n",
      "|   56|2001|      4|   10|        11|        4|2001-10-11|               WN|                   19393|                         WN|     N513@@|                            378|          14107|           1410701|             30466|   PHX|     Phoenix, AZ|         AZ|            4.0|        Arizona|       81|        13796|         1379601|           32457| OAK|     Oakland, CA|       CA|          6.0|   California|     91|       650|  650.0|     0.0|            0.0|     0.0|                 0.0| 0600-0659|   15.0|    705.0|   847.0|   3.0|       850|  850.0|     0.0|            0.0|     0.0|               0.0| 0800-0859|      0.0|            null|     0.0|         120.0|            120.0|  102.0|    1.0|   646.0|            3|        null|        null|    null|         null|             null|        null|         null|           null|              null|          null|                null|       null|       null|       null|         null|            null|        null|          null|            null|         null|       null|       null|         null|            null|        null|          null|            null|         null|       null|       null|         null|            null|        null|          null|            null|         null|       null|       null|         null|            null|        null|          null|            null|         null|       null|       null|         null|            null|        null|          null|            null|         null|       null|        19|\n",
      "|   61|1997|      2|    5|        26|        1|1997-05-26|               HP|                   19991|                         HP|     N311AW|                           2866|          14107|           1410701|             30466|   PHX|     Phoenix, AZ|         AZ|            4.0|        Arizona|       81|        14679|         1467902|           33570| SAN|   San Diego, CA|       CA|          6.0|   California|     91|      1555| 1555.0|     0.0|            0.0|     0.0|                 0.0| 1500-1559|   10.0|   1605.0|  1655.0|   4.0|      1659| 1659.0|     0.0|            0.0|     0.0|               0.0| 1600-1659|      0.0|            null|     0.0|          64.0|             64.0|   50.0|    1.0|   304.0|            2|        null|        null|    null|         null|             null|        null|         null|           null|              null|          null|                null|       null|       null|       null|         null|            null|        null|          null|            null|         null|       null|       null|         null|            null|        null|          null|            null|         null|       null|       null|         null|            null|        null|          null|            null|         null|       null|       null|         null|            null|        null|          null|            null|         null|       null|       null|         null|            null|        null|          null|            null|         null|       null|        20|\n",
      "+-----+----+-------+-----+----------+---------+----------+-----------------+------------------------+---------------------------+-----------+-------------------------------+---------------+------------------+------------------+------+----------------+-----------+---------------+---------------+---------+-------------+----------------+----------------+----+----------------+---------+-------------+-------------+-------+----------+-------+--------+---------------+--------+--------------------+----------+-------+---------+--------+------+----------+-------+--------+---------------+--------+------------------+----------+---------+----------------+--------+--------------+-----------------+-------+-------+--------+-------------+------------+------------+--------+-------------+-----------------+------------+-------------+---------------+------------------+--------------+--------------------+-----------+-----------+-----------+-------------+----------------+------------+--------------+----------------+-------------+-----------+-----------+-------------+----------------+------------+--------------+----------------+-------------+-----------+-----------+-------------+----------------+------------+--------------+----------------+-------------+-----------+-----------+-------------+----------------+------------+--------------+----------------+-------------+-----------+-----------+-------------+----------------+------------+--------------+----------------+-------------+-----------+----------+\n",
      "only showing top 20 rows\n",
      "\n"
     ]
    }
   ],
   "source": [
    "ndf=Window.partitionBy(\"OriginState\").orderBy(\"OriginAirportID\")\n",
    "#to add new column\n",
    "df.withColumn(\"row_number\",row_number().over(ndf)).show()"
   ]
  },
  {
   "cell_type": "code",
   "execution_count": 30,
   "id": "3fab8b17",
   "metadata": {},
   "outputs": [],
   "source": [
    "from pyspark.sql.functions import udf\n",
    "from pyspark.sql.functions import col"
   ]
  },
  {
   "cell_type": "code",
   "execution_count": 31,
   "id": "1d2be165",
   "metadata": {},
   "outputs": [],
   "source": [
    "def destination(str):\n",
    "    resStr=\"\"\n",
    "    arr=str.split(\",\")\n",
    "    for x in arr:\n",
    "        resStr=arr[0]\n",
    "    return resStr\n",
    "#convert above fucntion into UDF\n",
    "destinationUDF=udf(lambda z: destination(z))"
   ]
  },
  {
   "cell_type": "code",
   "execution_count": 33,
   "id": "e7eec707",
   "metadata": {},
   "outputs": [
    {
     "name": "stdout",
     "output_type": "stream",
     "text": [
      "+----+------------------------+\n",
      "|Dest|DestCityName            |\n",
      "+----+------------------------+\n",
      "|SLC |Salt Lake City          |\n",
      "|MCO |Orlando                 |\n",
      "|DFW |Dallas/Fort Worth       |\n",
      "|DTW |Detroit                 |\n",
      "|CLT |Charlotte               |\n",
      "|SHV |Shreveport              |\n",
      "|CLE |Cleveland               |\n",
      "|CAE |Columbia                |\n",
      "|CLE |Cleveland               |\n",
      "|DAL |Dallas                  |\n",
      "|LAX |Los Angeles             |\n",
      "|DAL |Dallas                  |\n",
      "|MIA |Miami                   |\n",
      "|LAX |Los Angeles             |\n",
      "|LGA |New York                |\n",
      "|BWI |Baltimore               |\n",
      "|MBS |Saginaw/Bay City/Midland|\n",
      "|SEA |Seattle                 |\n",
      "|IAD |Washington              |\n",
      "|LAX |Los Angeles             |\n",
      "+----+------------------------+\n",
      "only showing top 20 rows\n",
      "\n"
     ]
    }
   ],
   "source": [
    "df.select(col('Dest'),destinationUDF(col('DestCityName')).alias(\"DestCityName\")).show(truncate=False)"
   ]
  },
  {
   "cell_type": "code",
   "execution_count": null,
   "id": "c308158e",
   "metadata": {},
   "outputs": [],
   "source": []
  }
 ],
 "metadata": {
  "kernelspec": {
   "display_name": "Python 3",
   "language": "python",
   "name": "python3"
  },
  "language_info": {
   "codemirror_mode": {
    "name": "ipython",
    "version": 3
   },
   "file_extension": ".py",
   "mimetype": "text/x-python",
   "name": "python",
   "nbconvert_exporter": "python",
   "pygments_lexer": "ipython3",
   "version": "3.8.8"
  }
 },
 "nbformat": 4,
 "nbformat_minor": 5
}
